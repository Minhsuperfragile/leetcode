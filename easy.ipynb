{
 "cells": [
  {
   "cell_type": "code",
   "execution_count": 2,
   "metadata": {},
   "outputs": [],
   "source": [
    "from typing import List"
   ]
  },
  {
   "cell_type": "markdown",
   "metadata": {},
   "source": [
    "### 1768. Merge Strings Alternately\n",
    "\n",
    "[A part of leet code 75](https://leetcode.com/problems/merge-strings-alternately/description/?envType=study-plan-v2&envId=leetcode-75)"
   ]
  },
  {
   "cell_type": "code",
   "execution_count": 2,
   "metadata": {},
   "outputs": [],
   "source": [
    "class Solution:\n",
    "    def mergeAlternately(self, word1: str, word2: str) -> str:\n",
    "        if len(word1) < len(word2): # if word1 is shorter than word2\n",
    "            word1 += \" \"*(len(word2) - len(word1))\n",
    "        elif len(word1) > len(word2): # if word2 is shorter than word1\n",
    "            word2 += \" \"*(len(word1) - len(word2))\n",
    "\n",
    "        word = \"\"\n",
    "        for c1, c2 in zip(word1, word2):\n",
    "            word += c1 + c2\n",
    "        \n",
    "        word = word.replace(\" \",\"\")\n",
    "        return word"
   ]
  },
  {
   "cell_type": "code",
   "execution_count": 3,
   "metadata": {},
   "outputs": [
    {
     "data": {
      "text/plain": [
       "'apbqcr'"
      ]
     },
     "execution_count": 3,
     "metadata": {},
     "output_type": "execute_result"
    }
   ],
   "source": [
    "word1 = \"abc\"\n",
    "word2 = \"pqr\"\n",
    "sol = Solution()\n",
    "sol.mergeAlternately(word1, word2)"
   ]
  },
  {
   "cell_type": "markdown",
   "metadata": {},
   "source": [
    "### 1071. Greatest Common Divisor of Strings\n",
    "\n",
    "[A part of leet code 75](https://leetcode.com/problems/greatest-common-divisor-of-strings/?envType=study-plan-v2&envId=leetcode-75)"
   ]
  },
  {
   "cell_type": "code",
   "execution_count": 19,
   "metadata": {},
   "outputs": [],
   "source": [
    "class Solution:\n",
    "    def gcdOfStrings(self, str1: str, str2: str) -> str:\n",
    "        \"\"\"\n",
    "        Take length of 2 strings\n",
    "        Check if the shorter string is a divisor of longer string\n",
    "        Check if any substring from start of any string is divisor of 2 strings\n",
    "        We check it from longer to shorter, so we know that the first we found is gcd \n",
    "        \"\"\"\n",
    "        m, n = len(str1), len(str2)\n",
    "        limit = min(m, n)\n",
    "\n",
    "        for size in range(limit, 0, -1):\n",
    "            count1 = m // size\n",
    "            count2 = n // size\n",
    "            print(f'{size}: {str1[:size] * count1} - {str1[:size] * count2}')\n",
    "            if str1[:size] * count1 == str1 and str1[:size] * count2 == str2:\n",
    "                return str1[:size]\n",
    "\n",
    "        return \"\""
   ]
  },
  {
   "cell_type": "code",
   "execution_count": 21,
   "metadata": {},
   "outputs": [
    {
     "name": "stdout",
     "output_type": "stream",
     "text": [
      "6: abcabc - abcabc\n",
      "5: abcab - abcab\n",
      "4: abcaabca - abca\n",
      "3: abcabcabc - abcabc\n",
      "abc\n"
     ]
    }
   ],
   "source": [
    "sol = Solution()\n",
    "print(sol.gcdOfStrings('abcabcabc', 'abcabc'))"
   ]
  },
  {
   "cell_type": "markdown",
   "metadata": {},
   "source": [
    "### 1431. Kids With the Greatest Number of Candies\n",
    "[A part of leet code 75](https://leetcode.com/problems/kids-with-the-greatest-number-of-candies/description/?envType=study-plan-v2&envId=leetcode-75)"
   ]
  },
  {
   "cell_type": "code",
   "execution_count": 22,
   "metadata": {},
   "outputs": [],
   "source": [
    "from typing import List\n",
    "\n",
    "class Solution:\n",
    "    def kidsWithCandies(self, candies: List[int], extraCandies: int) -> List[bool]:\n",
    "        max_ = max(candies)\n",
    "        threshold = max_ - extraCandies\n",
    "\n",
    "        result = [x >= threshold for x in candies]\n",
    "        return result"
   ]
  },
  {
   "cell_type": "code",
   "execution_count": 23,
   "metadata": {},
   "outputs": [
    {
     "data": {
      "text/plain": [
       "[True, True, True, False, True]"
      ]
     },
     "execution_count": 23,
     "metadata": {},
     "output_type": "execute_result"
    }
   ],
   "source": [
    "sol = Solution()\n",
    "sol.kidsWithCandies([2,3,5,1,3], 3)"
   ]
  },
  {
   "cell_type": "markdown",
   "metadata": {},
   "source": [
    "### 605. Can Place Flowers\n",
    "[A part of leet code 75](https://leetcode.com/problems/can-place-flowers/description/?envType=study-plan-v2&envId=leetcode-75)"
   ]
  },
  {
   "cell_type": "code",
   "execution_count": 43,
   "metadata": {},
   "outputs": [],
   "source": [
    "class Solution:\n",
    "    def canPlaceFlowers(self, flowerbed: List[int], n: int) -> bool:\n",
    "        \"\"\"\n",
    "        Add 0 to the start and the end of list\n",
    "        To be an available slot, it must have 2 adjacent slots be 0 (empty)\n",
    "        If that slot is available, we turn it into 1\n",
    "        \"\"\"\n",
    "        flowerbed.append(0)\n",
    "        flowerbed.insert(0,0)\n",
    "        available_slot = 0\n",
    "        for i in range(1, len(flowerbed)-1):\n",
    "            p = (flowerbed[i-1] or flowerbed[i] or flowerbed[i+1]) # False if none of them is 1 \n",
    "            if p:\n",
    "                continue\n",
    "            else: \n",
    "                flowerbed[i] = 1\n",
    "                available_slot += 1\n",
    "\n",
    "        return available_slot >= n"
   ]
  },
  {
   "cell_type": "code",
   "execution_count": 44,
   "metadata": {},
   "outputs": [
    {
     "data": {
      "text/plain": [
       "False"
      ]
     },
     "execution_count": 44,
     "metadata": {},
     "output_type": "execute_result"
    }
   ],
   "source": [
    "sol = Solution()\n",
    "sol.canPlaceFlowers([1,0,0,0,1], 2)"
   ]
  },
  {
   "cell_type": "markdown",
   "metadata": {},
   "source": [
    "### 345. Reverse Vowels of a String\n",
    "[A part of leet code 75](https://leetcode.com/problems/reverse-vowels-of-a-string/description/?envType=study-plan-v2&envId=leetcode-75)"
   ]
  },
  {
   "cell_type": "code",
   "execution_count": 59,
   "metadata": {},
   "outputs": [],
   "source": [
    "class Solution:\n",
    "    def reverseVowels(self, s: str) -> str:\n",
    "        \"\"\" \n",
    "        We use 2 pointers, point to 2 ends of string\n",
    "        We make both of them move toward the middle until they see a vowel\n",
    "        We swap 2 vowels\n",
    "        If they see each other, it means there is no more vowel\n",
    "        \"\"\"\n",
    "        vowels = set('aeiouAEIOU')\n",
    "        s = list(s)\n",
    "        left = 0\n",
    "        right = len(s) - 1\n",
    "\n",
    "        while left < right:\n",
    "            while s[left] not in vowels and left < right:\n",
    "                left += 1\n",
    "            while s[right] not in vowels and left < right:\n",
    "                right -= 1 \n",
    "\n",
    "            s[left] , s[right] = s[right], s[left]\n",
    "            left += 1\n",
    "            right -= 1\n",
    "\n",
    "        return \"\".join(s)"
   ]
  },
  {
   "cell_type": "code",
   "execution_count": 60,
   "metadata": {},
   "outputs": [
    {
     "data": {
      "text/plain": [
       "'AceCreIm'"
      ]
     },
     "execution_count": 60,
     "metadata": {},
     "output_type": "execute_result"
    }
   ],
   "source": [
    "sol = Solution()\n",
    "sol.reverseVowels(\"IceCreAm\")"
   ]
  },
  {
   "cell_type": "markdown",
   "metadata": {},
   "source": [
    "### 283. Move Zeroes\n",
    "[A part of leet code 75](https://leetcode.com/problems/move-zeroes/description/?envType=study-plan-v2&envId=leetcode-75)"
   ]
  },
  {
   "cell_type": "code",
   "execution_count": 31,
   "metadata": {},
   "outputs": [],
   "source": [
    "class Solution:\n",
    "    def moveZeroes(self, nums: List[int]) -> None:\n",
    "        \"\"\"\n",
    "        Do not return anything, modify nums in-place instead.\n",
    "        \"\"\"\n",
    "        new = []\n",
    "        for n in nums:\n",
    "            if n != 0 :\n",
    "                new.append(n)\n",
    "\n",
    "        # n = len(nums) - len(new)\n",
    "\n",
    "        for i in range(len(nums)):\n",
    "            if i < len(new):\n",
    "                nums[i] = new[i]\n",
    "            else:\n",
    "                nums[i] = 0"
   ]
  },
  {
   "cell_type": "code",
   "execution_count": 30,
   "metadata": {},
   "outputs": [
    {
     "data": {
      "text/plain": [
       "[1, 0, 0]"
      ]
     },
     "execution_count": 30,
     "metadata": {},
     "output_type": "execute_result"
    }
   ],
   "source": [
    "sol = Solution()\n",
    "sol.moveZeroes([0,0,1])"
   ]
  },
  {
   "cell_type": "markdown",
   "metadata": {},
   "source": []
  }
 ],
 "metadata": {
  "kernelspec": {
   "display_name": "tminh",
   "language": "python",
   "name": "python3"
  },
  "language_info": {
   "codemirror_mode": {
    "name": "ipython",
    "version": 3
   },
   "file_extension": ".py",
   "mimetype": "text/x-python",
   "name": "python",
   "nbconvert_exporter": "python",
   "pygments_lexer": "ipython3",
   "version": "3.13.1"
  }
 },
 "nbformat": 4,
 "nbformat_minor": 2
}
