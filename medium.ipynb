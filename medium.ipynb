{
 "cells": [
  {
   "cell_type": "code",
   "execution_count": 1,
   "metadata": {},
   "outputs": [],
   "source": [
    "from typing import List"
   ]
  },
  {
   "cell_type": "markdown",
   "metadata": {},
   "source": [
    "### 151. Reverse Words in a String\n",
    "[A part of leet code 75](https://leetcode.com/problems/reverse-words-in-a-string/?envType=study-plan-v2&envId=leetcode-75)"
   ]
  },
  {
   "cell_type": "code",
   "execution_count": 1,
   "metadata": {},
   "outputs": [],
   "source": [
    "class Solution:\n",
    "    def reverseWords(self, s: str) -> str:\n",
    "        \"\"\"Default python's functions, easily read in English\"\"\"\n",
    "        return \" \".join([word for word in reversed(s.split()) if word])\n",
    "        "
   ]
  },
  {
   "cell_type": "code",
   "execution_count": 2,
   "metadata": {},
   "outputs": [
    {
     "data": {
      "text/plain": [
       "'blue is sky The'"
      ]
     },
     "execution_count": 2,
     "metadata": {},
     "output_type": "execute_result"
    }
   ],
   "source": [
    "sol = Solution()\n",
    "sol.reverseWords(\"The sky is blue\")"
   ]
  },
  {
   "cell_type": "markdown",
   "metadata": {},
   "source": [
    "### 238. Product of Array Except Self\n",
    "[A part of leet code 75](https://leetcode.com/problems/product-of-array-except-self/description/?envType=study-plan-v2&envId=leetcode-75)"
   ]
  },
  {
   "cell_type": "code",
   "execution_count": 42,
   "metadata": {},
   "outputs": [],
   "source": [
    "# this solution is slow as hell, but other is kinda similar, more optimized on space complexity\n",
    "class Solution:\n",
    "    def productExceptSelf(self, nums: List[int]) -> List[int]:\n",
    "        \"\"\"\n",
    "        Calculate prefix and postfix product \n",
    "        Example [1 2 3 4]\n",
    "        => prefix prod = [1    , 1  , 1*2, 1*2*3]\n",
    "        => suffix prod = [4*3*2, 4*3, 4  , 1    ] (this is reversed order for easier visualization)\n",
    "        => result = prod of each element as above\n",
    "        \"\"\"\n",
    "        prefix_prod = [nums[0]]\n",
    "        postfix_prod = [nums[-1]]\n",
    "\n",
    "        for i in range(1, len(nums)-1):\n",
    "            prefix_prod.append(prefix_prod[i-1] * nums[i])\n",
    "            postfix_prod.append(postfix_prod[i-1] * nums[-i-1])\n",
    "        \n",
    "        postfix_prod.insert(0,1)\n",
    "        prefix_prod.insert(0,1)\n",
    "        print(prefix_prod, postfix_prod)\n",
    "\n",
    "        result = []\n",
    "        for i in range(0,len(nums)):\n",
    "            result.append(prefix_prod[i] * postfix_prod[-i-1])\n",
    "\n",
    "        return result"
   ]
  },
  {
   "cell_type": "code",
   "execution_count": 43,
   "metadata": {},
   "outputs": [
    {
     "name": "stdout",
     "output_type": "stream",
     "text": [
      "[1, 1, 2, 6] [1, 4, 12, 24]\n"
     ]
    },
    {
     "data": {
      "text/plain": [
       "[24, 12, 8, 6]"
      ]
     },
     "execution_count": 43,
     "metadata": {},
     "output_type": "execute_result"
    }
   ],
   "source": [
    "sol = Solution()\n",
    "sol.productExceptSelf([1,2,3,4])"
   ]
  },
  {
   "cell_type": "markdown",
   "metadata": {},
   "source": [
    "### 334. Increasing Triplet Subsequence\n",
    "[A part of leet code 75](https://leetcode.com/problems/increasing-triplet-subsequence/?envType=study-plan-v2&envId=leetcode-75)"
   ]
  },
  {
   "cell_type": "code",
   "execution_count": 55,
   "metadata": {},
   "outputs": [],
   "source": [
    "class Solution:\n",
    "    def increasingTriplet(self, nums: List[int]) -> bool:\n",
    "        \"\"\"\n",
    "        We want to search for 2 smallest possible values in array\n",
    "        Because they are in order from left to right\n",
    "        \n",
    "        Let min (mi) and mid be infinitively large\n",
    "        We go through each elements in array\n",
    "        \n",
    "        \"\"\"\n",
    "\n",
    "        mi = float('inf')\n",
    "        mid = float('inf')\n",
    "        for n in nums:\n",
    "            if n > mid:\n",
    "                return True\n",
    "            if n <= mi:\n",
    "                mi = n \n",
    "            else: mid = n\n",
    "            print(mi, mid)\n",
    "        return False\n",
    "                "
   ]
  },
  {
   "cell_type": "code",
   "execution_count": 56,
   "metadata": {},
   "outputs": [
    {
     "name": "stdout",
     "output_type": "stream",
     "text": [
      "1 inf\n",
      "1 5\n",
      "0 5\n",
      "0 4\n",
      "0 1\n"
     ]
    },
    {
     "data": {
      "text/plain": [
       "True"
      ]
     },
     "execution_count": 56,
     "metadata": {},
     "output_type": "execute_result"
    }
   ],
   "source": [
    "sol = Solution()\n",
    "sol.increasingTriplet([1,5,0,4,1,3])"
   ]
  },
  {
   "cell_type": "markdown",
   "metadata": {},
   "source": [
    "### 443. String Compression\n",
    "[A part of leet code 75](https://leetcode.com/problems/string-compression/description/?envType=study-plan-v2&envId=leetcode-75)"
   ]
  },
  {
   "cell_type": "code",
   "execution_count": 16,
   "metadata": {},
   "outputs": [],
   "source": [
    "class Solution:\n",
    "    def compress(self, chars: List[str]) -> int:\n",
    "        out = []\n",
    "        i = 0\n",
    "        while i < len(chars):\n",
    "            char_count = 1\n",
    "            try:\n",
    "\n",
    "                while chars[i] == chars[i+1]:\n",
    "                    char_count += 1\n",
    "                    i += 1\n",
    "\n",
    "            except: break\n",
    "            i += 1\n",
    "            \n",
    "            out.append([chars[i], char_count])\n",
    "\n",
    "        return out"
   ]
  },
  {
   "cell_type": "code",
   "execution_count": 17,
   "metadata": {},
   "outputs": [
    {
     "data": {
      "text/plain": [
       "[['b', 2], ['c', 2]]"
      ]
     },
     "execution_count": 17,
     "metadata": {},
     "output_type": "execute_result"
    }
   ],
   "source": [
    "sol = Solution() \n",
    "sol.compress([\"a\",\"a\",\"b\",\"b\",\"c\",\"c\",\"c\"])"
   ]
  }
 ],
 "metadata": {
  "kernelspec": {
   "display_name": "tminh",
   "language": "python",
   "name": "python3"
  },
  "language_info": {
   "codemirror_mode": {
    "name": "ipython",
    "version": 3
   },
   "file_extension": ".py",
   "mimetype": "text/x-python",
   "name": "python",
   "nbconvert_exporter": "python",
   "pygments_lexer": "ipython3",
   "version": "3.13.1"
  }
 },
 "nbformat": 4,
 "nbformat_minor": 2
}
