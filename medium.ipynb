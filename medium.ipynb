{
 "cells": [
  {
   "cell_type": "code",
   "execution_count": null,
   "metadata": {},
   "outputs": [],
   "source": [
    "from typing import List"
   ]
  },
  {
   "cell_type": "markdown",
   "metadata": {},
   "source": [
    "### 151. Reverse Words in a String\n",
    "[A part of leet code 75](https://leetcode.com/problems/reverse-words-in-a-string/?envType=study-plan-v2&envId=leetcode-75)"
   ]
  },
  {
   "cell_type": "code",
   "execution_count": 1,
   "metadata": {},
   "outputs": [],
   "source": [
    "class Solution:\n",
    "    def reverseWords(self, s: str) -> str:\n",
    "        \"\"\"Default python's functions, easily read in English\"\"\"\n",
    "        return \" \".join([word for word in reversed(s.split()) if word])\n",
    "        "
   ]
  },
  {
   "cell_type": "code",
   "execution_count": 2,
   "metadata": {},
   "outputs": [
    {
     "data": {
      "text/plain": [
       "'blue is sky The'"
      ]
     },
     "execution_count": 2,
     "metadata": {},
     "output_type": "execute_result"
    }
   ],
   "source": [
    "sol = Solution()\n",
    "sol.reverseWords(\"The sky is blue\")"
   ]
  },
  {
   "cell_type": "markdown",
   "metadata": {},
   "source": [
    "### 238. Product of Array Except Self\n",
    "[A part of leet code 75](https://leetcode.com/problems/product-of-array-except-self/description/?envType=study-plan-v2&envId=leetcode-75)"
   ]
  },
  {
   "cell_type": "code",
   "execution_count": 42,
   "metadata": {},
   "outputs": [],
   "source": [
    "# this solution is slow as hell, but other is kinda similar, more optimized on space complexity\n",
    "class Solution:\n",
    "    def productExceptSelf(self, nums: List[int]) -> List[int]:\n",
    "        \"\"\"\n",
    "        Calculate prefix and postfix product \n",
    "        Example [1 2 3 4]\n",
    "        => prefix prod = [1    , 1  , 1*2, 1*2*3]\n",
    "        => suffix prod = [4*3*2, 4*3, 4  , 1    ] (this is reversed order for easier visualization)\n",
    "        => result = prod of each element as above\n",
    "        \"\"\"\n",
    "        prefix_prod = [nums[0]]\n",
    "        postfix_prod = [nums[-1]]\n",
    "\n",
    "        for i in range(1, len(nums)-1):\n",
    "            prefix_prod.append(prefix_prod[i-1] * nums[i])\n",
    "            postfix_prod.append(postfix_prod[i-1] * nums[-i-1])\n",
    "        \n",
    "        postfix_prod.insert(0,1)\n",
    "        prefix_prod.insert(0,1)\n",
    "        print(prefix_prod, postfix_prod)\n",
    "\n",
    "        result = []\n",
    "        for i in range(0,len(nums)):\n",
    "            result.append(prefix_prod[i] * postfix_prod[-i-1])\n",
    "\n",
    "        return result"
   ]
  },
  {
   "cell_type": "code",
   "execution_count": 43,
   "metadata": {},
   "outputs": [
    {
     "name": "stdout",
     "output_type": "stream",
     "text": [
      "[1, 1, 2, 6] [1, 4, 12, 24]\n"
     ]
    },
    {
     "data": {
      "text/plain": [
       "[24, 12, 8, 6]"
      ]
     },
     "execution_count": 43,
     "metadata": {},
     "output_type": "execute_result"
    }
   ],
   "source": [
    "sol = Solution()\n",
    "sol.productExceptSelf([1,2,3,4])"
   ]
  },
  {
   "cell_type": "markdown",
   "metadata": {},
   "source": [
    "### 334. Increasing Triplet Subsequence\n",
    "[A part of leet code 75](https://leetcode.com/problems/increasing-triplet-subsequence/?envType=study-plan-v2&envId=leetcode-75)"
   ]
  },
  {
   "cell_type": "code",
   "execution_count": 66,
   "metadata": {},
   "outputs": [],
   "source": [
    "import numpy as np\n",
    "\n",
    "class Solution:\n",
    "    def increasingTriplet(self, nums: List[int]) -> bool:\n",
    "        idsort = np.argsort(nums)\n",
    "        print(idsort)\n",
    "\n",
    "        return False"
   ]
  },
  {
   "cell_type": "code",
   "execution_count": 67,
   "metadata": {},
   "outputs": [
    {
     "name": "stdout",
     "output_type": "stream",
     "text": [
      "[4 2 3 5 0 1]\n"
     ]
    },
    {
     "data": {
      "text/plain": [
       "False"
      ]
     },
     "execution_count": 67,
     "metadata": {},
     "output_type": "execute_result"
    }
   ],
   "source": [
    "sol = Solution()\n",
    "sol.increasingTriplet([20,100,10,12,5,13])"
   ]
  }
 ],
 "metadata": {
  "kernelspec": {
   "display_name": "tminh",
   "language": "python",
   "name": "python3"
  },
  "language_info": {
   "codemirror_mode": {
    "name": "ipython",
    "version": 3
   },
   "file_extension": ".py",
   "mimetype": "text/x-python",
   "name": "python",
   "nbconvert_exporter": "python",
   "pygments_lexer": "ipython3",
   "version": "3.13.1"
  }
 },
 "nbformat": 4,
 "nbformat_minor": 2
}
